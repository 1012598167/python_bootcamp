{
 "cells": [
  {
   "cell_type": "markdown",
   "metadata": {},
   "source": [
    "# Python refresher\n",
    "\n",
    "## In this notebook, you will learn:\n",
    "\n",
    "* Python basics\n",
    "* Numpy basics\n"
   ]
  },
  {
   "cell_type": "markdown",
   "metadata": {},
   "source": [
    "## About Jupyter Notebook\n",
    "\n",
    "[This turtorial](http://nbviewer.jupyter.org/github/jupyter/notebook/blob/master/docs/source/examples/Notebook/Notebook%20Basics.ipynb) could help you get familiar with Jupyter Notebooks\n",
    "\n",
    "Also, being proficient with keyboard shortcuts could save you lots of time in the future. \n",
    "\n",
    "Go to *Help -> Keyboard Shortcuts* to learn about shortcuts.\n",
    "\n",
    "Make sure to find the shortcuts for:\n",
    "1. run cell, select below\n",
    "1. run selected cells\n",
    "1. run cell and insert below\n",
    "1. create a cell above\n",
    "1. create a cell below\n",
    "1. delete a cell "
   ]
  },
  {
   "cell_type": "markdown",
   "metadata": {},
   "source": [
    "## Before you get started:\n",
    "\n",
    "* Don't just stare at the screen, all the cells are executable, interact with them!\n",
    "* This notebook is *NOT* a substitution for the official document.\n",
    "* <img src=\"rtfm.png\" width=\"250px\" />\n",
    "\n"
   ]
  },
  {
   "cell_type": "markdown",
   "metadata": {},
   "source": [
    "## Environment check\n",
    "\n",
    "The cell below should run without problems if you've set up your environment properly."
   ]
  },
  {
   "cell_type": "code",
   "execution_count": 61,
   "metadata": {},
   "outputs": [],
   "source": [
    "import math\n",
    "import numpy as np\n",
    "import matplotlib\n",
    "%matplotlib inline\n",
    "import matplotlib.pyplot as plt\n",
    "plt.style.use('fivethirtyeight')\n",
    "import pandas as pd\n"
   ]
  },
  {
   "cell_type": "markdown",
   "metadata": {},
   "source": [
    "## Python operations\n",
    "Examples are copied from:\n",
    "(https://www.programiz.com/python-programming/operators)"
   ]
  },
  {
   "cell_type": "markdown",
   "metadata": {},
   "source": [
    "### Arithmetic operators"
   ]
  },
  {
   "cell_type": "code",
   "execution_count": 62,
   "metadata": {},
   "outputs": [
    {
     "name": "stdout",
     "output_type": "stream",
     "text": [
      "x = 15\n",
      "y = 4\n",
      "x + y = 19\n",
      "x - y = 11\n",
      "x * y = 60\n",
      "x / y = 3.75\n",
      "x // y = 3\n",
      "x ** y = 50625\n",
      "x % y =  3\n"
     ]
    }
   ],
   "source": [
    "x = 15\n",
    "y = 4\n",
    "\n",
    "print(\"x = {}\\ny = {}\".format(x, y))\n",
    "\n",
    "# Output: x + y = 19\n",
    "print('x + y =',x+y)\n",
    "\n",
    "# Output: x - y = 11\n",
    "print('x - y =',x-y)\n",
    "\n",
    "# Output: x * y = 60\n",
    "print('x * y =',x*y)\n",
    "\n",
    "# Output: x / y = 3.75\n",
    "print('x / y =',x/y)\n",
    "\n",
    "# Output: x // y = 3\n",
    "print('x // y =',x//y)\n",
    "\n",
    "# Output: x ** y = 50625\n",
    "print('x ** y =',x**y)\n",
    "\n",
    "print('x % y = ', x % y )"
   ]
  },
  {
   "cell_type": "markdown",
   "metadata": {},
   "source": [
    "### Comparison operators"
   ]
  },
  {
   "cell_type": "code",
   "execution_count": 63,
   "metadata": {},
   "outputs": [
    {
     "name": "stdout",
     "output_type": "stream",
     "text": [
      "x = 10\n",
      "y = 12\n",
      "x > y  is False\n",
      "x < y  is True\n",
      "x == y is False\n",
      "x != y is True\n",
      "x >= y is False\n",
      "x <= y is True\n"
     ]
    }
   ],
   "source": [
    "x = 10\n",
    "y = 12\n",
    "\n",
    "print(\"x = {}\\ny = {}\".format(x, y))\n",
    "\n",
    "# Output: x > y is False\n",
    "print('x > y  is',x>y)\n",
    "\n",
    "# Output: x < y is True\n",
    "print('x < y  is',x<y)\n",
    "\n",
    "# Output: x == y is False\n",
    "print('x == y is',x==y)\n",
    "\n",
    "# Output: x != y is True\n",
    "print('x != y is',x!=y)\n",
    "\n",
    "# Output: x >= y is False\n",
    "print('x >= y is',x>=y)\n",
    "\n",
    "# Output: x <= y is True\n",
    "print('x <= y is',x<=y)"
   ]
  },
  {
   "cell_type": "markdown",
   "metadata": {},
   "source": [
    "### Logical operators"
   ]
  },
  {
   "cell_type": "code",
   "execution_count": 64,
   "metadata": {},
   "outputs": [
    {
     "name": "stdout",
     "output_type": "stream",
     "text": [
      "x = True\n",
      "y = False\n",
      "x and y is False\n",
      "x or y is True\n",
      "not x is False\n"
     ]
    }
   ],
   "source": [
    "x = True\n",
    "y = False\n",
    "\n",
    "print(\"x = {}\\ny = {}\".format(x, y))\n",
    "\n",
    "# Output: x and y is False\n",
    "print('x and y is',x and y)\n",
    "\n",
    "# Output: x or y is True\n",
    "print('x or y is',x or y)\n",
    "\n",
    "# Output: not x is False\n",
    "print('not x is',not x)"
   ]
  },
  {
   "cell_type": "markdown",
   "metadata": {},
   "source": [
    "## Output"
   ]
  },
  {
   "cell_type": "code",
   "execution_count": 65,
   "metadata": {},
   "outputs": [
    {
     "data": {
      "text/plain": [
       "1"
      ]
     },
     "execution_count": 65,
     "metadata": {},
     "output_type": "execute_result"
    }
   ],
   "source": [
    "# Jupyter Notebook itself will \n",
    "# print the last evaluated line in a cell.\n",
    "i = 1\n",
    "i"
   ]
  },
  {
   "cell_type": "code",
   "execution_count": 66,
   "metadata": {},
   "outputs": [
    {
     "name": "stdout",
     "output_type": "stream",
     "text": [
      "Lok'Tar Ogar!\n",
      "3.4\n",
      "1/7 = 0.14285714285714285\n",
      "Greedo shot first!\n"
     ]
    }
   ],
   "source": [
    "# Print() function is a more powerful option.\n",
    "print(\"Lok'Tar Ogar!\")\n",
    "print(\"3\" + \".\" + \"4\")\n",
    "print(\"1/7 = \" + str(1/7))\n",
    "\n",
    "\n",
    "# Format output\n",
    "name = \"Greedo\"\n",
    "print(\"{} shot first!\".format(name))"
   ]
  },
  {
   "cell_type": "markdown",
   "metadata": {},
   "source": [
    "Read the [document](https://docs.python.org/3/tutorial/inputoutput.html)\n",
    "for more information."
   ]
  },
  {
   "cell_type": "markdown",
   "metadata": {},
   "source": [
    "## For loops"
   ]
  },
  {
   "cell_type": "code",
   "execution_count": 67,
   "metadata": {},
   "outputs": [
    {
     "name": "stdout",
     "output_type": "stream",
     "text": [
      "1\n",
      "Odd power of 2\n",
      "4\n",
      "Odd power of 2\n",
      "16\n"
     ]
    }
   ],
   "source": [
    "# A for loop repeats a block of code once for each\n",
    "# element in a given collection.\n",
    "for i in range(5):\n",
    "    if i % 2 == 0:\n",
    "        print(2**i)\n",
    "    else:\n",
    "        print(\"Odd power of 2\")"
   ]
  },
  {
   "cell_type": "markdown",
   "metadata": {},
   "source": [
    "Confused about the *range* function?\n",
    "Try to run the cells below."
   ]
  },
  {
   "cell_type": "code",
   "execution_count": 68,
   "metadata": {},
   "outputs": [],
   "source": [
    "range?"
   ]
  },
  {
   "cell_type": "code",
   "execution_count": 69,
   "metadata": {},
   "outputs": [
    {
     "name": "stdout",
     "output_type": "stream",
     "text": [
      "Help on class range in module builtins:\n",
      "\n",
      "class range(object)\n",
      " |  range(stop) -> range object\n",
      " |  range(start, stop[, step]) -> range object\n",
      " |  \n",
      " |  Return an object that produces a sequence of integers from start (inclusive)\n",
      " |  to stop (exclusive) by step.  range(i, j) produces i, i+1, i+2, ..., j-1.\n",
      " |  start defaults to 0, and stop is omitted!  range(4) produces 0, 1, 2, 3.\n",
      " |  These are exactly the valid indices for a list of 4 elements.\n",
      " |  When step is given, it specifies the increment (or decrement).\n",
      " |  \n",
      " |  Methods defined here:\n",
      " |  \n",
      " |  __bool__(self, /)\n",
      " |      self != 0\n",
      " |  \n",
      " |  __contains__(self, key, /)\n",
      " |      Return key in self.\n",
      " |  \n",
      " |  __eq__(self, value, /)\n",
      " |      Return self==value.\n",
      " |  \n",
      " |  __ge__(self, value, /)\n",
      " |      Return self>=value.\n",
      " |  \n",
      " |  __getattribute__(self, name, /)\n",
      " |      Return getattr(self, name).\n",
      " |  \n",
      " |  __getitem__(self, key, /)\n",
      " |      Return self[key].\n",
      " |  \n",
      " |  __gt__(self, value, /)\n",
      " |      Return self>value.\n",
      " |  \n",
      " |  __hash__(self, /)\n",
      " |      Return hash(self).\n",
      " |  \n",
      " |  __iter__(self, /)\n",
      " |      Implement iter(self).\n",
      " |  \n",
      " |  __le__(self, value, /)\n",
      " |      Return self<=value.\n",
      " |  \n",
      " |  __len__(self, /)\n",
      " |      Return len(self).\n",
      " |  \n",
      " |  __lt__(self, value, /)\n",
      " |      Return self<value.\n",
      " |  \n",
      " |  __ne__(self, value, /)\n",
      " |      Return self!=value.\n",
      " |  \n",
      " |  __new__(*args, **kwargs) from builtins.type\n",
      " |      Create and return a new object.  See help(type) for accurate signature.\n",
      " |  \n",
      " |  __reduce__(...)\n",
      " |      helper for pickle\n",
      " |  \n",
      " |  __repr__(self, /)\n",
      " |      Return repr(self).\n",
      " |  \n",
      " |  __reversed__(...)\n",
      " |      Return a reverse iterator.\n",
      " |  \n",
      " |  count(...)\n",
      " |      rangeobject.count(value) -> integer -- return number of occurrences of value\n",
      " |  \n",
      " |  index(...)\n",
      " |      rangeobject.index(value, [start, [stop]]) -> integer -- return index of value.\n",
      " |      Raise ValueError if the value is not present.\n",
      " |  \n",
      " |  ----------------------------------------------------------------------\n",
      " |  Data descriptors defined here:\n",
      " |  \n",
      " |  start\n",
      " |  \n",
      " |  step\n",
      " |  \n",
      " |  stop\n",
      "\n"
     ]
    }
   ],
   "source": [
    "help(range)"
   ]
  },
  {
   "cell_type": "markdown",
   "metadata": {},
   "source": [
    "You can close the window at the bottom by pressing `esc` several times. "
   ]
  },
  {
   "cell_type": "code",
   "execution_count": 70,
   "metadata": {},
   "outputs": [
    {
     "name": "stdout",
     "output_type": "stream",
     "text": [
      "H\n",
      "e\n",
      "l\n",
      "l\n",
      "o\n",
      " \n",
      "W\n",
      "o\n",
      "r\n",
      "l\n",
      "d\n",
      "1\n",
      "2\n",
      "3\n",
      "4\n",
      "5\n",
      "6\n",
      "7\n",
      "8\n",
      "9\n"
     ]
    }
   ],
   "source": [
    "# FOR could be used to iterate any object with an iterable method\n",
    "\n",
    "string = \"Hello World\"\n",
    "for x in string:\n",
    "    print(x)\n",
    "    \n",
    "list_of_lists = [ [1, 2, 3], [4, 5, 6], [7, 8, 9]]\n",
    "for items in list_of_lists:\n",
    "    for x in items:\n",
    "        print(x)"
   ]
  },
  {
   "cell_type": "markdown",
   "metadata": {},
   "source": [
    "## List comprehension"
   ]
  },
  {
   "cell_type": "code",
   "execution_count": 1,
   "metadata": {},
   "outputs": [
    {
     "name": "stdout",
     "output_type": "stream",
     "text": [
      "[2.99, 4.99, 6.99]\n"
     ]
    }
   ],
   "source": [
    "'''\n",
    "Basic syntax:\n",
    "    [<expression> for <item> in <list> if <condition>]\n",
    "'''\n",
    "\n",
    "initial_list = [1, 2, 3, 4, 5, 6]\n",
    "edited_list = [float(str(i) + \".99\") \n",
    "                for i in initial_list if i % 2 == 0]\n",
    "print(edited_list)"
   ]
  },
  {
   "cell_type": "code",
   "execution_count": 72,
   "metadata": {},
   "outputs": [
    {
     "data": {
      "text/plain": [
       "[1, 2, 4, 8, 16]"
      ]
     },
     "execution_count": 72,
     "metadata": {},
     "output_type": "execute_result"
    }
   ],
   "source": [
    "power_of_two = [2 ** x for x in range(5)]\n",
    "power_of_two"
   ]
  },
  {
   "cell_type": "markdown",
   "metadata": {},
   "source": [
    "## Function in Python"
   ]
  },
  {
   "cell_type": "markdown",
   "metadata": {},
   "source": [
    "### Defining Functions"
   ]
  },
  {
   "cell_type": "code",
   "execution_count": 73,
   "metadata": {},
   "outputs": [],
   "source": [
    "def foo(x):\n",
    "    \"\"\"\n",
    "    The docstring will be displayed by calling help(foo)\n",
    "    or foo?\n",
    "    \"\"\"\n",
    "    return 0"
   ]
  },
  {
   "cell_type": "code",
   "execution_count": 74,
   "metadata": {},
   "outputs": [
    {
     "name": "stdout",
     "output_type": "stream",
     "text": [
      "Help on function foo in module __main__:\n",
      "\n",
      "foo(x)\n",
      "    The docstring will be displayed by calling help(foo)\n",
      "    or foo?\n",
      "\n"
     ]
    }
   ],
   "source": [
    "help(foo)"
   ]
  },
  {
   "cell_type": "markdown",
   "metadata": {},
   "source": [
    "**Python have lots of features suitable for functional-programming paradigm.**\n",
    "\n",
    "The [textbook](http://composingprograms.com) for CS61A is an excellent resouce to learn about those features. \n",
    "\n",
    "Here is an example from the book:"
   ]
  },
  {
   "cell_type": "code",
   "execution_count": 75,
   "metadata": {},
   "outputs": [
    {
     "name": "stdout",
     "output_type": "stream",
     "text": [
      "1.6176470588235294\n"
     ]
    }
   ],
   "source": [
    "def improve(update, close, guess=1):\n",
    "    while not close(guess):\n",
    "        guess = update(guess)\n",
    "    return guess\n",
    "\n",
    "def golden_update(guess):\n",
    "    return 1/guess + 1\n",
    "\n",
    "def square_close_to_successor(guess):\n",
    "    return approx_eq(guess * guess,\n",
    "                     guess + 1)\n",
    "\n",
    "def approx_eq(x, y, tolerance=1e-3):\n",
    "    return abs(x - y) < tolerance\n",
    "\n",
    "# Functions could be passed as parameters in Python\n",
    "phi = improve(golden_update,\n",
    "              square_close_to_successor)\n",
    "\n",
    "print(phi)"
   ]
  },
  {
   "cell_type": "markdown",
   "metadata": {},
   "source": [
    "### Annoymous functions"
   ]
  },
  {
   "cell_type": "markdown",
   "metadata": {},
   "source": [
    "Annoymous function is a very useful tool. Here are some examples:"
   ]
  },
  {
   "cell_type": "code",
   "execution_count": 76,
   "metadata": {},
   "outputs": [
    {
     "name": "stdout",
     "output_type": "stream",
     "text": [
      "Dwarf\n",
      "Human\n",
      "Tauren\n"
     ]
    }
   ],
   "source": [
    "# Extract a specific entity from a list of dict\n",
    "dict_wow = [{\"Race\":\"Dwarf\", \"Capital\":\"Ironforge\"},\n",
    "         {\"Race\":\"Human\", \"Capital\":\"Stormwind\"},\n",
    "         {\"Race\":\"Tauren\", \"Capital\":\"Mulgore\"},]\n",
    "\n",
    "# \"lambda ... : ...\" is called annoymous function \n",
    "race_list = map(lambda x: x['Race'], dict_wow)\n",
    "for r in race_list:\n",
    "    print(r)"
   ]
  },
  {
   "cell_type": "code",
   "execution_count": 77,
   "metadata": {},
   "outputs": [
    {
     "data": {
      "text/plain": [
       "[('a', -1), ('a', 3), ('b', 5), ('b', -6)]"
      ]
     },
     "execution_count": 77,
     "metadata": {},
     "output_type": "execute_result"
    }
   ],
   "source": [
    "# We want to sort this list by the absolute value of \n",
    "# number filed.\n",
    "unsorted_list = [('a', 3), ('b', 5), ('a', -1), ('b', -6)]\n",
    "sorted(unsorted_list, key=lambda x: abs(x[1]))"
   ]
  },
  {
   "cell_type": "code",
   "execution_count": 78,
   "metadata": {},
   "outputs": [
    {
     "name": "stdout",
     "output_type": "stream",
     "text": [
      "160\n"
     ]
    }
   ],
   "source": [
    "from math import gcd\n",
    "from functools import reduce\n",
    "num = [4, 32, 10, 20]\n",
    "lcm = reduce(lambda x, y: x * y // gcd(x, y), num)\n",
    "print(lcm)"
   ]
  },
  {
   "cell_type": "markdown",
   "metadata": {},
   "source": [
    "----------------------"
   ]
  },
  {
   "cell_type": "markdown",
   "metadata": {},
   "source": [
    "*Now it's your turn to write some codes!*\n",
    "\n",
    "Try to finish the following problems **elegantly** (Recursion, python built-in functions, list operations, annoymous functions are recommended. Try to avoid nested for-loop.)"
   ]
  },
  {
   "cell_type": "markdown",
   "metadata": {},
   "source": [
    "### Question 1\n",
    "\n",
    "#### Question 1.a\n",
    "Write a function string_reverse that takes in a string `s` and returns the reversed string.\n",
    "For example:\n",
    "\n",
    "    >>> string_reverse(\"rolyat\")\n",
    "    'taylor'"
   ]
  },
  {
   "cell_type": "code",
   "execution_count": 79,
   "metadata": {},
   "outputs": [
    {
     "data": {
      "text/plain": [
       "'hello'"
      ]
     },
     "execution_count": 79,
     "metadata": {},
     "output_type": "execute_result"
    }
   ],
   "source": [
    "def string_reverse(s):\n",
    "    if s == \"\":\n",
    "        return \"\"\n",
    "    else:\n",
    "        return string_reverse(s[1:]) + s[0]\n",
    "    \n",
    "string_reverse(\"olleh\")"
   ]
  },
  {
   "cell_type": "markdown",
   "metadata": {},
   "source": [
    "#### Question 1.b\n",
    "Similarly, you could write a function to reverse a `list`\n",
    "\n",
    "    >>> list_reverse(['a', 'b', 'c']):\n",
    "        ['c', 'b', 'a']"
   ]
  },
  {
   "cell_type": "code",
   "execution_count": 80,
   "metadata": {},
   "outputs": [
    {
     "data": {
      "text/plain": [
       "['c', 'b', 'a']"
      ]
     },
     "execution_count": 80,
     "metadata": {},
     "output_type": "execute_result"
    }
   ],
   "source": [
    "def list_reverse(l):\n",
    "    return l[::-1]\n",
    "\n",
    "list_reverse(['a', 'b', 'c'])"
   ]
  },
  {
   "cell_type": "markdown",
   "metadata": {},
   "source": [
    "#### Question 1.c\n",
    "Write a function to convert from snake_case(`python_bootcamp_first_edition`) to camle case(`pythonBootcampFirstEdition`)\n",
    "\n",
    "    >>> to_camel_case(\"python_bootcamp_first_edition\")\n",
    "        \"pythonBootcampFirstEdition\""
   ]
  },
  {
   "cell_type": "code",
   "execution_count": 81,
   "metadata": {},
   "outputs": [
    {
     "data": {
      "text/plain": [
       "'readersChoice'"
      ]
     },
     "execution_count": 81,
     "metadata": {},
     "output_type": "execute_result"
    }
   ],
   "source": [
    "def to_camel_case(snake_str):\n",
    "    components = snake_str.split('_')\n",
    "    return (components[0] + \n",
    "        ''.join(x.title() for x in components[1:]))\n",
    "    \n",
    "\n",
    "to_camel_case('readers_choice')"
   ]
  },
  {
   "cell_type": "code",
   "execution_count": 82,
   "metadata": {},
   "outputs": [
    {
     "data": {
      "text/plain": [
       "'readersChoiceFirstEdition'"
      ]
     },
     "execution_count": 82,
     "metadata": {},
     "output_type": "execute_result"
    }
   ],
   "source": [
    "import re\n",
    "def to_camel_case_regex(snake_str):\n",
    "    return (re.sub(r\"_([a-zA-Z1-9])\", \n",
    "                   lambda m: m.group(1).upper(), snake_str))\n",
    "\n",
    "to_camel_case_regex('readers_choice_first_edition')\n"
   ]
  },
  {
   "cell_type": "markdown",
   "metadata": {},
   "source": [
    "#### Question 1.d\n",
    "Try to implement `while_loop` function recursively. It should have exactly the same behavior as the `while` statment in Python.\n"
   ]
  },
  {
   "cell_type": "code",
   "execution_count": 83,
   "metadata": {},
   "outputs": [
    {
     "name": "stdout",
     "output_type": "stream",
     "text": [
      "[8, 32, 12]\n",
      "[3, 5, 37]\n"
     ]
    }
   ],
   "source": [
    "def while_loop(condition, statement):\n",
    "    '''\n",
    "    Args:\n",
    "        condition(  => Boolean)\n",
    "        statement(  =>        )\n",
    "    '''\n",
    "    if(condition()):\n",
    "        statement()\n",
    "        while_loop(condition, statement)\n",
    "\n",
    "        \n",
    "# Test case:\n",
    "# Your while loop should successfully filter out all the even numbers.\n",
    "numbers = [12, 37, 5, 32, 8, 3]\n",
    "even = []\n",
    "odd = []\n",
    "\n",
    "def statement():\n",
    "    number = numbers.pop()\n",
    "    if(number % 2 == 0):\n",
    "        even.append(number)\n",
    "    else:\n",
    "        odd.append(number)\n",
    "        \n",
    "def condition():\n",
    "    return len(numbers) > 0\n",
    "        \n",
    "while_loop(condition, statement)\n",
    "print(even)\n",
    "print(odd)"
   ]
  },
  {
   "cell_type": "markdown",
   "metadata": {},
   "source": [
    "#### Question 1.e\n",
    "Flattening the list has always been an annoying problem in Python.\n",
    "\n",
    "    >>> flatten([[1, 2], [3], [4, 5, 6, 7, 8]])\n",
    "        [1, 2, 3, 4, 5, 6, 7, 8]\n",
    "        \n",
    "There are several solutions to this problem using different built-in functions. You could either use them or implement them by yourself."
   ]
  },
  {
   "cell_type": "code",
   "execution_count": 84,
   "metadata": {},
   "outputs": [
    {
     "name": "stdout",
     "output_type": "stream",
     "text": [
      "[1, 2, 3, 4, 5, 6, 7, 8]\n",
      "[1, 2, 3, 4, 5, 6, 7, 8]\n",
      "[1, 2, 3, 4, 5, 6, 7, 8]\n"
     ]
    }
   ],
   "source": [
    "from functools import reduce\n",
    "from operator import add\n",
    "from itertools import chain\n",
    "\n",
    "def flatten_by_generator(nested_list):\n",
    "    return [item for items in nested_list for item in items]\n",
    "\n",
    "def flatten_by_chain(nested_list):\n",
    "    return list(chain.from_iterable(nested_list))\n",
    "\n",
    "def flatten_by_reduce(nested_list):\n",
    "    return reduce(add , nested_list, [])\n",
    "\n",
    "\n",
    "l = [[1, 2], [3], [4, 5, 6, 7, 8]]\n",
    "print(flatten_by_reduce(l))\n",
    "print(flatten_by_chain(l))\n",
    "print(flatten_by_generator(l))"
   ]
  },
  {
   "cell_type": "markdown",
   "metadata": {},
   "source": [
    "## NumPy basic usage\n",
    "\n",
    "Numpy is the core library for scientific computing in Python. It provides a high-performance multidimensional array object, and tools for working with these arrays.\n",
    "\n",
    "Here are some useful resources\n",
    "\n",
    "* [Condensed Numpy Review](https://cs231n.github.io/python-numpy-tutorial/#numpy)\n",
    "\n",
    "* [NumPy review from DS100](http://www.ds100.org/fa17/assets/notebooks/numpy/Numpy_Review.html)"
   ]
  },
  {
   "cell_type": "markdown",
   "metadata": {},
   "source": [
    "NumPy could help us calculate many probability and statistical problems, here is an example:\n",
    "#### Law of large number\n",
    "In this example, we use NumPy and Matplotlib to visualize the relationship between the sample mean and sample size.\n",
    "\n",
    "<img src=\"dice.jpeg\" width=\"100px\" />\n",
    "\n",
    "Suppose the dice is fair, the average of the rolls should converge(formal definition of **converge** is beyond the scope of this course) to $3.5$ (expected value for the roll of a die) as $n$ gets large."
   ]
  },
  {
   "cell_type": "code",
   "execution_count": 85,
   "metadata": {},
   "outputs": [
    {
     "data": {
      "text/plain": [
       "[<matplotlib.lines.Line2D at 0x7fd85759e9b0>]"
      ]
     },
     "execution_count": 85,
     "metadata": {},
     "output_type": "execute_result"
    },
    {
     "data": {
      "image/png": "[encoded data removed]",
      "text/plain": [
       "<Figure size 432x288 with 1 Axes>"
      ]
     },
     "metadata": {},
     "output_type": "display_data"
    }
   ],
   "source": [
    "N = 2000\n",
    "\n",
    "plt.hlines(3.5,0, N)\n",
    "\n",
    "empirical_average = np.zeros(N)\n",
    "total_sum = 0\n",
    "for i in range(N):\n",
    "    toss = np.random.randint(1, 7)\n",
    "    total_sum += toss\n",
    "    empirical_average[i] = total_sum / (i + 1)\n",
    "plt.plot(empirical_average, linewidth=2)"
   ]
  },
  {
   "cell_type": "markdown",
   "metadata": {},
   "source": [
    "-----\n",
    "Numpy is also famous for its high-performance and convenient linear algerba operations."
   ]
  },
  {
   "cell_type": "code",
   "execution_count": 86,
   "metadata": {},
   "outputs": [
    {
     "data": {
      "text/plain": [
       "array([[ 76,  82],\n",
       "       [184, 199]])"
      ]
     },
     "execution_count": 86,
     "metadata": {},
     "output_type": "execute_result"
    }
   ],
   "source": [
    "# A matrix in NumPy is simply a 2-dimensional NumPy array\n",
    "matA = np.array([\n",
    "    [1, 2, 3],\n",
    "    [4, 5, 6],\n",
    "])\n",
    "\n",
    "matB = np.array([\n",
    "    [10, 11],\n",
    "    [12, 13],\n",
    "    [14, 15],\n",
    "])\n",
    "\n",
    "# The notation B @ v means: compute the matrix multiplication Bv\n",
    "matA @ matB"
   ]
  },
  {
   "cell_type": "code",
   "execution_count": 87,
   "metadata": {},
   "outputs": [
    {
     "name": "stdout",
     "output_type": "stream",
     "text": [
      "[ 76 184]\n",
      "760\n"
     ]
    }
   ],
   "source": [
    "matA = np.array([\n",
    "    [1, 2, 3],\n",
    "    [4, 5, 6],\n",
    "])\n",
    "\n",
    "# A vector in NumPy is simply a 1-dimensional NumPy array\n",
    "some_vec = np.array([ 10, 12, 14, ])\n",
    "\n",
    "another_vec = np.array([ 10, 20, 30 ])\n",
    "\n",
    "print(matA @ some_vec)\n",
    "print(some_vec @ another_vec)"
   ]
  },
  {
   "cell_type": "markdown",
   "metadata": {},
   "source": [
    "### NumPy is fast !"
   ]
  },
  {
   "cell_type": "code",
   "execution_count": 88,
   "metadata": {},
   "outputs": [],
   "source": [
    "data = np.random.rand(1000000)"
   ]
  },
  {
   "cell_type": "code",
   "execution_count": 89,
   "metadata": {},
   "outputs": [
    {
     "name": "stdout",
     "output_type": "stream",
     "text": [
      "155 ms ± 6.61 ms per loop (mean ± std. dev. of 7 runs, 10 loops each)\n"
     ]
    }
   ],
   "source": [
    "%%timeit\n",
    "s = 0\n",
    "c = 0\n",
    "for x in data:\n",
    "    if x > 0.5:\n",
    "        s += x\n",
    "        c += 1\n",
    "result = s/c"
   ]
  },
  {
   "cell_type": "code",
   "execution_count": 90,
   "metadata": {},
   "outputs": [
    {
     "name": "stdout",
     "output_type": "stream",
     "text": [
      "7.01 ms ± 942 µs per loop (mean ± std. dev. of 7 runs, 100 loops each)\n"
     ]
    }
   ],
   "source": [
    "%%timeit\n",
    "result = data[data > 0.5].mean()"
   ]
  },
  {
   "cell_type": "markdown",
   "metadata": {},
   "source": [
    "### Question 2\n",
    "\n",
    "#### Question 2.a: Calculus revisited!\n",
    "\n",
    "Recall the $N-th$ order Taylor expansion for $e^x$ at $x = 0$\n",
    "\n",
    "$$\n",
    "\\Large e^{x} = \\sum_{n = 0}^{N}\\frac{x^n}{n!}\n",
    "$$\n",
    "\n",
    "In this question, you are asked to visualize $e^x$ and its $N-th$ order Taylor expansion in a given interval. You may find `np.linspace` useful."
   ]
  },
  {
   "cell_type": "code",
   "execution_count": 107,
   "metadata": {},
   "outputs": [
    {
     "data": {
      "text/plain": [
       "Text(0.5,1,'6-th order talor expansion VS origin function')"
      ]
     },
     "execution_count": 107,
     "metadata": {},
     "output_type": "execute_result"
    },
    {
     "data": {
      "image/png": "[encoded data removed]",
      "text/plain": [
       "<Figure size 432x288 with 1 Axes>"
      ]
     },
     "metadata": {},
     "output_type": "display_data"
    }
   ],
   "source": [
    "# Your code here\n",
    "X = np.linspace(-4, 4, 1000)\n",
    "expo = np.exp(X)\n",
    "approx = np.zeros_like(X)\n",
    "N = 6\n",
    "for i in range(N):\n",
    "    approx = approx + np.power(X, i) / np.math.factorial(i)\n",
    "\n",
    "plt.plot(X, expo, label=\"e^x\")\n",
    "plt.plot(X, approx, label=\"Polynomial Approximation\")\n",
    "plt.legend()\n",
    "plt.title(\"{}-th order talor expansion VS origin function\".format(N))"
   ]
  },
  {
   "cell_type": "markdown",
   "metadata": {},
   "source": [
    "#### Question 2.b: Something about Linear Algerba (Optional)\n",
    "<img src=\"linear_algerba.jpg\" width=\"250px\" />\n",
    "\n",
    "------------------\n",
    "\n"
   ]
  },
  {
   "cell_type": "markdown",
   "metadata": {},
   "source": [
    "In this problem, we will experiment with a probability model called *Markov Chain*.\n",
    "We are going to find the *stationary distribution* with different methods."
   ]
  },
  {
   "cell_type": "code",
   "execution_count": 172,
   "metadata": {},
   "outputs": [
    {
     "data": {
      "text/plain": [
       "array([ 988, 1004, 8008])"
      ]
     },
     "execution_count": 172,
     "metadata": {},
     "output_type": "execute_result"
    }
   ],
   "source": [
    "# 1.Random Walk\n",
    "# Number of iterations.\n",
    "N = 10000\n",
    "path = np.zeros(N, dtype=int)\n",
    "# state_dict = {'A': np.array([['A', 'B', 'C'],\n",
    "#                              [.2, .4, .4]]),\n",
    "#               'B': np.array([['A', 'C'],\n",
    "#                              [.4, .6]]),\n",
    "#               'C': np.array([['A', 'B'],\n",
    "#                              [.6, .4]])}\n",
    "\n",
    "transition_matrix = np.array([\n",
    "    [.1, .1, .8],\n",
    "    [.1, .1, .8],\n",
    "    [.1, .1, .8]\n",
    "])\n",
    "\n",
    "# For convenience, we represent states with integers. \n",
    "states = np.array([0, 1, 2])\n",
    "\n",
    "\n",
    "current_state = 0\n",
    "for i in range(N):\n",
    "    path[i] = current_state\n",
    "    current_state = np.random.choice(states, p=transition_matrix[current_state])\n",
    "    \n",
    "np.bincount(path)"
   ]
  },
  {
   "cell_type": "code",
   "execution_count": 170,
   "metadata": {},
   "outputs": [
    {
     "data": {
      "text/plain": [
       "array([0.1, 0.1, 0.8])"
      ]
     },
     "execution_count": 170,
     "metadata": {},
     "output_type": "execute_result"
    }
   ],
   "source": [
    "# 2.Solve balance equation.\n",
    "A = np.transpose(transition_matrix) - np.eye(3)\n",
    "A[2] = [1,1,1]\n",
    "np.linalg.solve(A, [0,0,1])"
   ]
  },
  {
   "cell_type": "code",
   "execution_count": 173,
   "metadata": {},
   "outputs": [],
   "source": [
    "# 3.Calculate the left eigenvector of eigenvalue 1 for the transition matrix."
   ]
  },
  {
   "cell_type": "markdown",
   "metadata": {},
   "source": [
    "## The end"
   ]
  }
 ],
 "metadata": {
  "hide_input": false,
  "kernelspec": {
   "display_name": "Python 3",
   "language": "python",
   "name": "python3"
  },
  "language_info": {
   "codemirror_mode": {
    "name": "ipython",
    "version": 3
   },
   "file_extension": ".py",
   "mimetype": "text/x-python",
   "name": "python",
   "nbconvert_exporter": "python",
   "pygments_lexer": "ipython3",
   "version": "3.6.5"
  }
 },
 "nbformat": 4,
 "nbformat_minor": 2
}
